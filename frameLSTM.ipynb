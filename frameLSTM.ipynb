{
  "nbformat": 4,
  "nbformat_minor": 0,
  "metadata": {
    "colab": {
      "name": "frameLSTM",
      "provenance": [],
      "collapsed_sections": []
    },
    "kernelspec": {
      "name": "python3",
      "display_name": "Python 3"
    },
    "accelerator": "GPU"
  },
  "cells": [
    {
      "cell_type": "code",
      "metadata": {
        "id": "Ji4upfrXU5un"
      },
      "source": [
        "from google.colab import drive\r\n",
        "drive.mount('/gdrive/', force_remount=False)\r\n",
        "!ls /gdrive"
      ],
      "execution_count": null,
      "outputs": []
    },
    {
      "cell_type": "code",
      "metadata": {
        "id": "fTSUa2UvU8KG"
      },
      "source": [
        "import os\r\n",
        "\r\n",
        "BASE_PATH = '/gdrive/My Drive/colab_files/framelstm/'\r\n",
        "if not os.path.exists(BASE_PATH):\r\n",
        "    os.makedirs(BASE_PATH)\r\n",
        "\r\n",
        "!pwd\r\n",
        "!ls\r\n",
        "!echo\r\n",
        "os.chdir(BASE_PATH)\r\n",
        "if not os.path.exists(BASE_PATH + 'MovingMNIST.py'):\r\n",
        "    !wget https://raw.githubusercontent.com/tychovdo/MovingMNIST/master/MovingMNIST.py\r\n",
        "!pwd\r\n",
        "!ls -al"
      ],
      "execution_count": null,
      "outputs": []
    },
    {
      "cell_type": "code",
      "metadata": {
        "id": "3M7Qybnk-3HE"
      },
      "source": [
        "import torch\r\n",
        "import torch.nn as nn\r\n",
        "\r\n",
        "import seaborn as sns\r\n",
        "import numpy as np\r\n",
        "import pandas as pd\r\n",
        "import matplotlib.pyplot as plt\r\n",
        "%matplotlib inline"
      ],
      "execution_count": null,
      "outputs": []
    },
    {
      "cell_type": "code",
      "metadata": {
        "id": "bz4pRFK4wfqj"
      },
      "source": [
        "import sys\r\n",
        "sys.path.append(BASE_PATH)\r\n",
        "import pt_util"
      ],
      "execution_count": null,
      "outputs": []
    },
    {
      "cell_type": "code",
      "metadata": {
        "id": "gbUNcLJE--lR"
      },
      "source": [
        "# basic code reference from https://stackabuse.com/time-series-prediction-using-lstm-with-pytorch-in-python/"
      ],
      "execution_count": null,
      "outputs": []
    },
    {
      "cell_type": "code",
      "metadata": {
        "id": "O4mZas_Bfb0w"
      },
      "source": [
        "from MovingMNIST import MovingMNIST\r\n",
        "\r\n",
        "# MovingMNIST dataset from http://www.cs.toronto.edu/~nitish/unsup_video.pdf paper\r\n",
        "# MovingMNIST code from https://github.com/tychovdo/MovingMNIST\r\n",
        "# More general reference from http://www.cs.toronto.edu/~nitish/unsupervised_video/\r\n",
        "train_set = MovingMNIST(root='data/mnist', train=True, download=True)\r\n",
        "test_set = MovingMNIST(root='data/mnist', train=False, download=True)\r\n",
        "\r\n",
        "batch_size = 1\r\n",
        "mnist_seq_length = 10 # this is constant in the dataset, I think\r\n",
        "\r\n",
        "train_loader = torch.utils.data.DataLoader(\r\n",
        "    dataset=train_set,\r\n",
        "    batch_size=batch_size,\r\n",
        "    shuffle=True\r\n",
        ")\r\n",
        "test_loader = torch.utils.data.DataLoader(\r\n",
        "    dataset=test_set,\r\n",
        "    batch_size=batch_size,\r\n",
        "    shuffle=False\r\n",
        ")\r\n",
        "\r\n",
        "print('==>>> total training batch number: {}'.format(len(train_loader)))\r\n",
        "print('==>>> total testing batch number: {}'.format(len(test_loader)))\r\n",
        "\r\n",
        "for seq, seq_target in train_loader:\r\n",
        "    print('--- Sample tensor sizes... ---')\r\n",
        "    print('Input:  ', seq.shape)\r\n",
        "    print('Target: ', seq_target.shape)\r\n",
        "    break"
      ],
      "execution_count": null,
      "outputs": []
    },
    {
      "cell_type": "code",
      "metadata": {
        "id": "7-kprAFL_ei4"
      },
      "source": [
        "class LSTM(nn.Module):\r\n",
        "    def __init__(self, input_size=1, hidden_layer_size=100, output_size=1):\r\n",
        "        super().__init__()\r\n",
        "        self.hidden_layer_size = hidden_layer_size\r\n",
        "        self.lstm = nn.LSTM(input_size, hidden_layer_size)\r\n",
        "        self.hidden_cell = (\r\n",
        "            torch.zeros(1,1,self.hidden_layer_size),\r\n",
        "            torch.zeros(1,1,self.hidden_layer_size)\r\n",
        "        )\r\n",
        "        self.linear = nn.Linear(hidden_layer_size, output_size)\r\n",
        "\r\n",
        "    def forward(self, input_seq):\r\n",
        "        lstm_out, self.hidden_cell = self.lstm(input_seq.view(len(input_seq), 1, -1), self.hidden_cell)\r\n",
        "        predictions = self.linear(lstm_out.view(len(input_seq), -1))\r\n",
        "        return predictions[-1:]\r\n",
        "\r\n",
        "    def loss(self, loss_function, prediction, labels):\r\n",
        "        loss_val = loss_function(prediction, labels)\r\n",
        "        return loss_val\r\n",
        "\r\n",
        "    def save_model(self, file_path, num_to_keep=1):\r\n",
        "        pt_util.save(self, file_path, num_to_keep)\r\n",
        "        \r\n",
        "    def save_best_model(self, accuracy, file_path, num_to_keep=1):\r\n",
        "        if self.accuracy == None or accuracy > self.accuracy:\r\n",
        "            self.accuracy = accuracy\r\n",
        "            self.save_model(file_path, num_to_keep)\r\n",
        "\r\n",
        "    def load_model(self, file_path):\r\n",
        "        pt_util.restore(self, file_path)\r\n",
        "\r\n",
        "    def load_last_model(self, dir_path):\r\n",
        "        return pt_util.restore_latest(self, dir_path)"
      ],
      "execution_count": null,
      "outputs": []
    },
    {
      "cell_type": "code",
      "metadata": {
        "id": "8H0ZW68OzZuY"
      },
      "source": [
        "epochs = 10\r\n",
        "data_size = 64*64"
      ],
      "execution_count": null,
      "outputs": []
    },
    {
      "cell_type": "code",
      "metadata": {
        "id": "hNmo-xNn_zjY"
      },
      "source": [
        "model = LSTM(input_size=data_size, output_size=data_size)\r\n",
        "model.load_model(BASE_PATH+'10e_saved.pt')\r\n",
        "loss_function = nn.MSELoss()\r\n",
        "optimizer = torch.optim.Adam(model.parameters(), lr=0.001)\r\n",
        "\r\n",
        "model.train()\r\n",
        "\r\n",
        "losses = []\r\n",
        "for i in range(epochs):\r\n",
        "    losses = []\r\n",
        "    for batch_idx, (seq, seq_target) in enumerate(train_loader):\r\n",
        "        flat_seq = seq.permute(1,2,3,0).view(mnist_seq_length,-1).float()\r\n",
        "        flat_seq_target = seq_target[:, 0, :, :].view(1,-1).float()\r\n",
        "        # initialize batch\r\n",
        "        optimizer.zero_grad()\r\n",
        "        model.hidden_cell = (\r\n",
        "            torch.zeros(1, 1, model.hidden_layer_size),\r\n",
        "            torch.zeros(1, 1, model.hidden_layer_size)\r\n",
        "        )\r\n",
        "        # forward\r\n",
        "        y_pred = model(flat_seq)\r\n",
        "        # backward\r\n",
        "        single_loss = model.loss(loss_function, y_pred, flat_seq_target)\r\n",
        "        losses.append(single_loss.item())\r\n",
        "        single_loss.backward()\r\n",
        "        # and step :)\r\n",
        "        optimizer.step()\r\n",
        "        if batch_idx % 1000 == 0:\r\n",
        "            print(f'  {batch_idx:5} : {np.mean(losses):10.8f}')\r\n",
        "    if i%1 == 0:\r\n",
        "        print(f'epoch: {i:3} loss: {np.mean(losses):10.8f}')\r\n",
        "\r\n",
        "print(f'epoch: {i:3} loss: {np.mean(losses):10.10f}')\r\n",
        "model.save_model(BASE_PATH+'20e_saved.pt')"
      ],
      "execution_count": null,
      "outputs": []
    },
    {
      "cell_type": "code",
      "metadata": {
        "id": "LNv5gapbjty7"
      },
      "source": [
        "# model = LSTM(input_size=data_size, output_size=data_size)\r\n",
        "# model.load_model(BASE_PATH+'20e_saved.pt')\r\n",
        "\r\n",
        "from matplotlib.animation import FuncAnimation\r\n",
        "\r\n",
        "model.eval()\r\n",
        "\r\n",
        "fut_pred = 500\r\n",
        "\r\n",
        "for seq, seq_target in list(test_loader):\r\n",
        "    # get the seed sequence\r\n",
        "    flat_seq = seq.permute(1,2,3,0).view(mnist_seq_length,-1).float()\r\n",
        "    test_inputs = flat_seq.tolist()\r\n",
        "\r\n",
        "    # make following predictions\r\n",
        "    for i in range(fut_pred):\r\n",
        "        seq = torch.as_tensor(test_inputs[-mnist_seq_length:])\r\n",
        "        with torch.no_grad():\r\n",
        "            model.hidden = (\r\n",
        "                torch.zeros(1, 1, model.hidden_layer_size),\r\n",
        "                torch.zeros(1, 1, model.hidden_layer_size)\r\n",
        "            )\r\n",
        "            test_inputs.append(model(seq).view(data_size).tolist())\r\n",
        "    break\r\n",
        "\r\n",
        "# Reference point https://brushingupscience.com/2016/06/21/matplotlib-animations-the-easy-way/\r\n",
        "def create_animation(num_images, filename):\r\n",
        "    # show input and following predictions\r\n",
        "    test_input_preview = torch.as_tensor(test_inputs[:num_images])\r\n",
        "\r\n",
        "    fig, ax = plt.subplots(figsize=(5, 3))\r\n",
        "\r\n",
        "    def animate(i):\r\n",
        "        ax.set_title('Frame ' + str(i))\r\n",
        "        ax.imshow(test_input_preview[i, :].view(64,64), interpolation='nearest')\r\n",
        "\r\n",
        "    anim = FuncAnimation(\r\n",
        "        fig, animate, interval=150, frames=num_images)\r\n",
        "    \r\n",
        "    plt.draw()\r\n",
        "    plt.show()\r\n",
        "\r\n",
        "    anim.save(BASE_PATH+filename)\r\n",
        "\r\n",
        "create_animation(20, '20e_preds_quick.mp4')\r\n",
        "create_animation(60, '20e_preds_long.mp4')"
      ],
      "execution_count": null,
      "outputs": []
    }
  ]
}